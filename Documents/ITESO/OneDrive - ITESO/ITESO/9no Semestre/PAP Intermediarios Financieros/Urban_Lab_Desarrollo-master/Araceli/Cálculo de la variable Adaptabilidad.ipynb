{
 "cells": [
  {
   "cell_type": "markdown",
   "metadata": {},
   "source": [
    "# Cálculo de la variable Adaptabilidad"
   ]
  },
  {
   "cell_type": "markdown",
   "metadata": {},
   "source": [
    "El cálculo de la variable se hará según la escala adaptada a cada una de las variables contenidas en la base de datos y que fueron seleccionadas como variables de adaptabilidad.\n",
    "\n",
    "Ver documento de Word: Métrica Adaptabilidad"
   ]
  },
  {
   "cell_type": "code",
   "execution_count": 26,
   "metadata": {},
   "outputs": [],
   "source": [
    "#Importar Librerías \n",
    "import pandas as pd \n",
    "import numpy as np"
   ]
  },
  {
   "cell_type": "markdown",
   "metadata": {},
   "source": [
    "### Base de datos: IIEG_E_1"
   ]
  },
  {
   "cell_type": "code",
   "execution_count": 27,
   "metadata": {},
   "outputs": [],
   "source": [
    "#Lectura de la base de datos\n",
    "data=pd.read_excel('data.xlsx', sheet_name='IIEG_E_1') \n",
    "#Acomodo de datos\n",
    "data = data.replace({\"Más de 52\": 52, \"De 26 a 52\": 26, \"No aplica\": 100, \"No contesto\": 101, \"No sé\":102, \"Más de un año\":12})\n",
    "#Variable a predecir \n",
    "adaptabilidad = np.zeros(len(data))"
   ]
  },
  {
   "cell_type": "code",
   "execution_count": 28,
   "metadata": {},
   "outputs": [],
   "source": [
    "#capacidad\n",
    "for i in range(0, len(data)):\n",
    "    if data['capacidad'][i]>0 and data['capacidad'][i]<=25:\n",
    "        adaptabilidad[i] += 1\n",
    "    if data['capacidad'][i]>25 and data['capacidad'][i]<=50:\n",
    "        adaptabilidad[i] += 1\n",
    "    if data['capacidad'][i]>50 and data['capacidad'][i]<=75:\n",
    "        adaptabilidad[i] += 2\n",
    "    if data['capacidad'][i]>75 and data['capacidad'][i]<=100:\n",
    "        adaptabilidad[i] += 2\n",
    "        \n",
    "#cerrar_razon\n",
    "for i in range(0, len(data)):\n",
    "    if data['cerrar_razon'][i] == 'Falta de fondos o liquidez' or data['cerrar_razon'][i] == 'Gastos elevados' \\\n",
    "        or data['cerrar_razon'][i] == 'Problemas con importación' or data['cerrar_razon'][i] == 'Problemas de cobranza':\n",
    "        adaptabilidad[i] += 1\n",
    "    else:\n",
    "        adaptabilidad[i] += 0\n",
    "\n",
    "#despidos\n",
    "for i in range(0, len(data)):\n",
    "    if data['despidos'][i] == 'Sí' or data['despidos'][i] == 'No cuenta con personal'\\\n",
    "    or data['despidos'][i] == 'No, pero lo hará en los próximos días':\n",
    "        adaptabilidad[i] += 0\n",
    "    if data['despidos'][i] == 'No':\n",
    "        adaptabilidad[i] += 2\n",
    "    if data['despidos'][i] == 'No, pero lo está considerando':\n",
    "        adaptabilidad[i] += 1\n",
    "\n",
    "#pago_salarios\n",
    "for i in range(0, len(data)):\n",
    "    if data['pago_salarios'][i] == 100 or data['pago_salarios'][i] == 101 or data['pago_salarios'][i] == 102:\n",
    "        adaptabilidad[i] += 0\n",
    "    if data['pago_salarios'][i]>0 and data['pago_salarios'][i]<=6:\n",
    "        adaptabilidad[i] += 1\n",
    "    if data['pago_salarios'][i]>6 and data['pago_salarios'][i]<=12:\n",
    "        adaptabilidad[i] += 1\n",
    "    if data['pago_salarios'][i]>12 and data['pago_salarios'][i]<=18:\n",
    "        adaptabilidad[i] += 2\n",
    "    if data['pago_salarios'][i]>18 and data['pago_salarios'][i]<=24:\n",
    "        adaptabilidad[i] += 2\n",
    "\n",
    "#capacidad_pago\n",
    "for i in range(0, len(data)):\n",
    "    if data['capacidad_pago'][i] == 'Sí':\n",
    "        adaptabilidad[i] += 2\n",
    "    if data['capacidad_pago'][i] == 'No':\n",
    "        adaptabilidad[i] += 0\n",
    "    if data['capacidad_pago'][i] == 'No sé':\n",
    "        adaptabilidad[i] += 1\n",
    "        \n",
    "#acuerdo_laboral\n",
    "for i in range(0, len(data)):\n",
    "    if data['acuerdo_laboral'][i] == 'No, pero lo está considerando' \\\n",
    "    or data['despidos'][i] == 'No, pero lo hará en los próximos días':\n",
    "        adaptabilidad[i] += 1\n",
    "    if data['acuerdo_laboral'][i] == 'Sí':\n",
    "        adaptabilidad[i] += 2\n",
    "    if data['acuerdo_laboral'][i] == 'No':\n",
    "        adaptabilidad[i] += 0\n",
    "        \n",
    "#trabajo_casa\n",
    "for i in range(0, len(data)):\n",
    "    if data['trabajo_casa'][i] == 'No, pero lo está considerando' \\\n",
    "    or data['despidos'][i] == 'No, pero lo hará en los próximos días':\n",
    "        adaptabilidad[i] += 1\n",
    "    if data['trabajo_casa'][i] == 'Sí':\n",
    "        adaptabilidad[i] += 2\n",
    "    if data['trabajo_casa'][i] == 'No':\n",
    "        adaptabilidad[i] += 0\n",
    "        \n",
    "#trabajo_casa_motivo\n",
    "for i in range(0, len(data)):\n",
    "    if data['trabajo_casa_motivo'][i] == 'La naturaleza de mi negocio no lo permite' \\\n",
    "    or data['trabajo_casa_motivo'][i] == 'Porque se considera una actividad esencial para la emergencia':\n",
    "        adaptabilidad[i] += 1\n",
    "    else:\n",
    "        adaptabilidad[i] += 0\n",
    "\n",
    "#aumento_precios\n",
    "for i in range(0, len(data)):\n",
    "    if data['aumento_precios'][i] == 'Sí':\n",
    "        adaptabilidad[i] += 2\n",
    "    if data['aumento_precios'][i] == 'No':\n",
    "        adaptabilidad[i] += 2\n",
    "        "
   ]
  },
  {
   "cell_type": "code",
   "execution_count": 29,
   "metadata": {},
   "outputs": [],
   "source": [
    "# Agregar la variable al DataFrame\n",
    "data['Adaptabilidad'] = adaptabilidad\n",
    "#Pasar el dataframe a un documento de excel\n",
    "data.to_excel('datos_adaptabilidad_1.xlsx', sheet_name='Adaptabilidad')"
   ]
  }
 ],
 "metadata": {
  "kernelspec": {
   "display_name": "Python 3",
   "language": "python",
   "name": "python3"
  },
  "language_info": {
   "codemirror_mode": {
    "name": "ipython",
    "version": 3
   },
   "file_extension": ".py",
   "mimetype": "text/x-python",
   "name": "python",
   "nbconvert_exporter": "python",
   "pygments_lexer": "ipython3",
   "version": "3.6.5"
  }
 },
 "nbformat": 4,
 "nbformat_minor": 2
}
